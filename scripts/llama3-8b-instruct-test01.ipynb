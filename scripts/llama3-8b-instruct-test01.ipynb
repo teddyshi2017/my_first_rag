{
 "cells": [
  {
   "cell_type": "code",
   "execution_count": 1,
   "id": "initial_id",
   "metadata": {
    "ExecuteTime": {
     "end_time": "2024-09-29T12:13:20.898190Z",
     "start_time": "2024-09-29T12:13:10.334139Z"
    }
   },
   "outputs": [
    {
     "data": {
      "application/vnd.jupyter.widget-view+json": {
       "model_id": "4dd46cb6e4cb4cbb81e09884708f9187",
       "version_major": 2,
       "version_minor": 0
      },
      "text/plain": [
       "Loading checkpoint shards:   0%|          | 0/4 [00:00<?, ?it/s]"
      ]
     },
     "metadata": {},
     "output_type": "display_data"
    },
    {
     "name": "stderr",
     "output_type": "stream",
     "text": [
      "Special tokens have been added in the vocabulary, make sure the associated word embeddings are fine-tuned or trained.\n",
      "Setting `pad_token_id` to `eos_token_id`:128009 for open-end generation.\n"
     ]
    },
    {
     "name": "stdout",
     "output_type": "stream",
     "text": [
      "{'role': 'assistant', 'content': 'Inventory management is the process of overseeing and controlling the flow of goods, materials, and products from the point of origin to the point of consumption. It involves planning, organizing, and controlling the inventory levels, storage, and movement of goods to ensure that the right products are available in the right quantities, at the right time, and at the right place.\\n\\nEffective inventory management is crucial for businesses to maintain a competitive edge, reduce costs, and improve customer satisfaction. It involves a range of activities, including:\\n\\n1. Inventory planning: Determining the right inventory levels, product mix, and storage capacity to meet customer demand and minimize stockouts or overstocking.\\n2. Inventory control: Monitoring and controlling inventory levels, tracking inventory movement, and identifying and addressing any discrepancies or issues.\\n3. Inventory valuation: Valuing inventory accurately to ensure that financial statements are accurate and to make informed business decisions.\\n4. Inventory optimization: Identifying opportunities to reduce inventory costs, improve inventory turnover, and increase customer satisfaction.\\n5. Inventory forecasting: Predicting future demand and adjusting inventory levels accordingly to ensure that the right products are available when needed.\\n\\nSome common inventory management techniques include:\\n\\n1. First-in, first-out (FIFO): The oldest inventory is sold or used first.\\n2. Last-in, first-out (LIFO): The most recent inventory is sold or used first.\\n3. Just-in-time (JIT) inventory: Inventory is ordered and received just in time to meet customer demand.\\n4. Economic order quantity (EOQ): The optimal quantity of inventory to order to minimize inventory costs.\\n5. Vendor-managed inventory (VMI): The supplier is responsible for managing inventory levels and replenishing stock as needed.\\n\\nBy implementing effective inventory management strategies, businesses can improve their bottom line, reduce waste, and enhance customer satisfaction.'}\n"
     ]
    }
   ],
   "source": [
    "import transformers\n",
    "import torch\n",
    "\n",
    "model_id = \"/home/teddy/git/huggingface/Meta-Llama-3-8B-Instruct\"\n",
    "\n",
    "pipeline = transformers.pipeline(\n",
    "    \"text-generation\",\n",
    "    model=model_id,\n",
    "    model_kwargs={\"torch_dtype\": torch.bfloat16},\n",
    "    device_map=\"cuda\",\n",
    ")\n",
    "\n",
    "messages = [\n",
    "    {\"role\": \"system\", \"content\": \"You are a chatbot who knows inventory domain knowledge well!\"},\n",
    "    {\"role\": \"user\", \"content\": \"what is inventory management?\"},\n",
    "]\n",
    "\n",
    "terminators = [\n",
    "    pipeline.tokenizer.eos_token_id,\n",
    "    pipeline.tokenizer.convert_tokens_to_ids(\"<|eot_id|>\")\n",
    "]\n",
    "\n",
    "outputs = pipeline(\n",
    "    messages,\n",
    "    max_new_tokens=512,\n",
    "    eos_token_id=terminators,\n",
    "    do_sample=True,\n",
    "    temperature=0.6,\n",
    "    top_p=0.9,\n",
    ")\n",
    "print(outputs[0][\"generated_text\"][-1])"
   ]
  }
 ],
 "metadata": {
  "kernelspec": {
   "display_name": "Python 3 (ipykernel)",
   "language": "python",
   "name": "python3"
  },
  "language_info": {
   "codemirror_mode": {
    "name": "ipython",
    "version": 3
   },
   "file_extension": ".py",
   "mimetype": "text/x-python",
   "name": "python",
   "nbconvert_exporter": "python",
   "pygments_lexer": "ipython3",
   "version": "3.10.12"
  }
 },
 "nbformat": 4,
 "nbformat_minor": 5
}
